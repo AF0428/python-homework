{
 "cells": [
  {
   "cell_type": "code",
   "execution_count": 10,
   "metadata": {},
   "outputs": [],
   "source": [
    "# init imports\n",
    "from pathlib import Path\n",
    "import csv"
   ]
  },
  {
   "cell_type": "code",
   "execution_count": 15,
   "metadata": {},
   "outputs": [
    {
     "name": "stdout",
     "output_type": "stream",
     "text": [
      "Total number of months 86\n"
     ]
    }
   ],
   "source": [
    "\"\"\"\n",
    "Code below opens the csv file in a csv reader object\n",
    "\"\"\"\n",
    "\n",
    "with open(\"pyBank/Resources/budget_data.csv\", \"r\") as file:\n",
    "    #print(file.read())\n",
    "    csvreader = csv.reader(file)\n",
    "    header = next(csvreader)\n",
    "    i=0\n",
    "    for row in csvreader:\n",
    "        i+=1\n",
    "        #print(row[1])\n",
    "    print (f\"Total number of months {i}\") "
   ]
  }
 ],
 "metadata": {
  "kernelspec": {
   "display_name": "Python 3.7.13 ('dev')",
   "language": "python",
   "name": "python3"
  },
  "language_info": {
   "codemirror_mode": {
    "name": "ipython",
    "version": 3
   },
   "file_extension": ".py",
   "mimetype": "text/x-python",
   "name": "python",
   "nbconvert_exporter": "python",
   "pygments_lexer": "ipython3",
   "version": "3.7.13"
  },
  "orig_nbformat": 4,
  "vscode": {
   "interpreter": {
    "hash": "43b1fd6e9aab77f25391a9a096108e39e7b806ac629cf9394fb8ec6541a28b11"
   }
  }
 },
 "nbformat": 4,
 "nbformat_minor": 2
}
