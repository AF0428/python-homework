{
 "cells": [
  {
   "cell_type": "code",
   "execution_count": 58,
   "metadata": {},
   "outputs": [],
   "source": [
    "# init imports\n",
    "from pathlib import Path\n",
    "import csv"
   ]
  },
  {
   "cell_type": "code",
   "execution_count": 168,
   "metadata": {},
   "outputs": [
    {
     "name": "stdout",
     "output_type": "stream",
     "text": [
      "The Change is: -984655.0\n",
      "The Change is: 662642.0\n",
      "The Change is: 391430.0\n",
      "The Change is: -379920.0\n",
      "The Change is: -212354.0\n",
      "The Change is: -510239.0\n",
      "The Change is: 428211.0\n",
      "The Change is: 821271.0\n",
      "The Change is: -693918.0\n",
      "The Change is: -416278.0\n",
      "The Change is: 974163.0\n",
      "The Change is: -860159.0\n",
      "The Change is: 1115009.0\n",
      "The Change is: -1033048.0\n",
      "The Change is: -95318.0\n",
      "The Change is: 308093.0\n",
      "The Change is: -99052.0\n",
      "The Change is: 521393.0\n",
      "The Change is: -605450.0\n",
      "The Change is: -231727.0\n",
      "The Change is: 65187.0\n",
      "The Change is: 702716.0\n",
      "The Change is: -177975.0\n",
      "The Change is: 1065544.0\n",
      "The Change is: -1926159.0\n",
      "The Change is: 917805.0\n",
      "The Change is: -898730.0\n",
      "The Change is: 334262.0\n",
      "The Change is: 246499.0\n",
      "The Change is: 64055.0\n",
      "The Change is: 1529236.0\n",
      "The Change is: -1497596.0\n",
      "The Change is: -304914.0\n",
      "The Change is: 635801.0\n",
      "The Change is: -398319.0\n",
      "The Change is: 183161.0\n",
      "The Change is: 37864.0\n",
      "The Change is: 253689.0\n",
      "The Change is: -403655.0\n",
      "The Change is: -94168.0\n",
      "The Change is: -306877.0\n",
      "The Change is: 83000.0\n",
      "The Change is: -210462.0\n",
      "The Change is: 2196167.0\n",
      "The Change is: -1465222.0\n",
      "The Change is: 956983.0\n",
      "The Change is: -1838447.0\n",
      "The Change is: 468003.0\n",
      "The Change is: 64602.0\n",
      "The Change is: -206242.0\n",
      "The Change is: 242155.0\n",
      "The Change is: 449079.0\n",
      "The Change is: -315198.0\n",
      "The Change is: -241099.0\n",
      "The Change is: -111540.0\n",
      "The Change is: -365942.0\n",
      "The Change is: 219310.0\n",
      "The Change is: 368665.0\n",
      "The Change is: -409837.0\n",
      "The Change is: -151210.0\n",
      "The Change is: 110244.0\n",
      "The Change is: 341938.0\n",
      "The Change is: 1212159.0\n",
      "The Change is: -683246.0\n",
      "The Change is: 70825.0\n",
      "The Change is: -335594.0\n",
      "The Change is: -417334.0\n",
      "The Change is: 272194.0\n",
      "The Change is: 236462.0\n",
      "The Change is: -657432.0\n",
      "The Change is: 211262.0\n",
      "The Change is: 128237.0\n",
      "The Change is: 1750387.0\n",
      "The Change is: -925441.0\n",
      "The Change is: -932089.0\n",
      "The Change is: 311434.0\n",
      "The Change is: -267252.0\n",
      "The Change is: 1876758.0\n",
      "The Change is: -1733696.0\n",
      "The Change is: -198551.0\n",
      "The Change is: 665765.0\n",
      "The Change is: -693229.0\n",
      "The Change is: 734926.0\n",
      "The Change is: -77242.0\n",
      "The Change is: -532869.0\n",
      "38382578.0\n"
     ]
    }
   ],
   "source": [
    "\"\"\"\n",
    "Code below opens the csv file in a csv reader object\n",
    "\"\"\"\n",
    "\n",
    "with open(\"PyBank/Resources/budget_data.csv\", \"r\") as file:\n",
    "    #print(file.read())\n",
    "    csvreader = csv.reader(file)\n",
    "    header = next(csvreader)\n",
    "    i=0\n",
    "    total = 0\n",
    "    prev_row = 0\n",
    "    change = 0\n",
    "    for row in csvreader:\n",
    "\n",
    "        if i != 0: #if not first row\n",
    "            change = prev_row - float(row[1])\n",
    "            prev_row = float(row[1]) \n",
    "            print(f\"The Change is: {change}\")\n",
    "        i+=1\n",
    "        total += float(row[1])\n",
    "    print(total)    "
   ]
  },
  {
   "cell_type": "code",
   "execution_count": 165,
   "metadata": {},
   "outputs": [
    {
     "name": "stdout",
     "output_type": "stream",
     "text": [
      "\n",
      "Financial Analysis\n",
      "----------------------------\n",
      "Total Months: 86\n",
      "Total: $38382578.0\n",
      "Average Change: \n",
      "Greatest Increase In Profits:\n",
      "Greatest Decrease In Profits:\n",
      "\n"
     ]
    }
   ],
   "source": [
    "#Generate the output string\n",
    "\n",
    "output = f\"\"\"\n",
    "Financial Analysis\n",
    "----------------------------\n",
    "Total Months: {i}\n",
    "Total: ${total}\n",
    "Average Change: \n",
    "Greatest Increase In Profits:\n",
    "Greatest Decrease In Profits:\n",
    "\"\"\"\n",
    "\n",
    "print(output)\n"
   ]
  },
  {
   "cell_type": "code",
   "execution_count": 166,
   "metadata": {},
   "outputs": [],
   "source": [
    "#Saving output to outout.txt\n",
    "with open(\"output.txt\", \"w\") as file:\n",
    "    file.write(output)"
   ]
  }
 ],
 "metadata": {
  "kernelspec": {
   "display_name": "Python 3.7.13 ('dev')",
   "language": "python",
   "name": "python3"
  },
  "language_info": {
   "codemirror_mode": {
    "name": "ipython",
    "version": 3
   },
   "file_extension": ".py",
   "mimetype": "text/x-python",
   "name": "python",
   "nbconvert_exporter": "python",
   "pygments_lexer": "ipython3",
   "version": "3.7.13"
  },
  "orig_nbformat": 4,
  "vscode": {
   "interpreter": {
    "hash": "43b1fd6e9aab77f25391a9a096108e39e7b806ac629cf9394fb8ec6541a28b11"
   }
  }
 },
 "nbformat": 4,
 "nbformat_minor": 2
}
