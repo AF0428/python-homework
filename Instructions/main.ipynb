{
 "cells": [
  {
   "cell_type": "code",
   "execution_count": 58,
   "metadata": {},
   "outputs": [],
   "source": [
    "# init imports\n",
    "from pathlib import Path\n",
    "import csv"
   ]
  },
  {
   "cell_type": "code",
   "execution_count": 159,
   "metadata": {},
   "outputs": [
    {
     "name": "stdout",
     "output_type": "stream",
     "text": [
      "38382578.0\n"
     ]
    }
   ],
   "source": [
    "\"\"\"\n",
    "Code below opens the csv file in a csv reader object\n",
    "\"\"\"\n",
    "\n",
    "with open(\"PyBank/Resources/budget_data.csv\", \"r\") as file:\n",
    "    #print(file.read())\n",
    "    csvreader = csv.reader(file)\n",
    "    header = next(csvreader)\n",
    "    i=0\n",
    "    total = 0\n",
    "    for row in csvreader:\n",
    "        i+=1\n",
    "        total += float(row[1])\n",
    "    print(total)    "
   ]
  },
  {
   "cell_type": "code",
   "execution_count": 160,
   "metadata": {},
   "outputs": [
    {
     "name": "stdout",
     "output_type": "stream",
     "text": [
      "\n",
      "Financial Analysis\n",
      "----------------------------\n",
      "Total Months: 86\n",
      "Total: $38382578.0\n",
      "\n"
     ]
    }
   ],
   "source": [
    "#Generate the output string\n",
    "\n",
    "output = f\"\"\"\n",
    "Financial Analysis\n",
    "----------------------------\n",
    "Total Months: {i}\n",
    "Total: ${total}\n",
    "\"\"\"\n",
    "\n",
    "print(output)\n"
   ]
  },
  {
   "cell_type": "code",
   "execution_count": 164,
   "metadata": {},
   "outputs": [],
   "source": [
    "#Saving output to outout.txt\n",
    "with open(\"output.txt\", \"w\") as file:\n",
    "    file.write(output)"
   ]
  }
 ],
 "metadata": {
  "kernelspec": {
   "display_name": "Python 3.7.13 ('dev')",
   "language": "python",
   "name": "python3"
  },
  "language_info": {
   "codemirror_mode": {
    "name": "ipython",
    "version": 3
   },
   "file_extension": ".py",
   "mimetype": "text/x-python",
   "name": "python",
   "nbconvert_exporter": "python",
   "pygments_lexer": "ipython3",
   "version": "3.7.13"
  },
  "orig_nbformat": 4,
  "vscode": {
   "interpreter": {
    "hash": "43b1fd6e9aab77f25391a9a096108e39e7b806ac629cf9394fb8ec6541a28b11"
   }
  }
 },
 "nbformat": 4,
 "nbformat_minor": 2
}
