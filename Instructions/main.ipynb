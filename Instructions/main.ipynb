{
 "cells": [
  {
   "cell_type": "code",
   "execution_count": 170,
   "metadata": {},
   "outputs": [],
   "source": [
    "# init imports\n",
    "from pathlib import Path\n",
    "import csv"
   ]
  },
  {
   "cell_type": "code",
   "execution_count": 220,
   "metadata": {},
   "outputs": [
    {
     "name": "stdout",
     "output_type": "stream",
     "text": [
      "38382578.0\n",
      "138230.0\n",
      "1626\n",
      "Feb-2017\n",
      "671099\n"
     ]
    }
   ],
   "source": [
    "\"\"\"\n",
    "Code below opens the csv file in a csv reader object\n",
    "\"\"\"\n",
    "\n",
    "from audioop import avg\n",
    "from cgitb import grey\n",
    "\n",
    "\n",
    "with open(\"PyBank/Resources/budget_data.csv\", \"r\") as file:\n",
    "    #print(file.read())\n",
    "    csvreader = csv.reader(file)\n",
    "    header = next(csvreader)\n",
    "    i=0\n",
    "    total = 0\n",
    "    prev_row = 0\n",
    "    change = 0\n",
    "    avgchange = 0\n",
    "    \n",
    "    \n",
    " \n",
    "    for row in csvreader:\n",
    "\n",
    "        if i != 0: #if not first row\n",
    "            change = prev_row - float(row[1])\n",
    "            prev_row = float(row[1])\n",
    "            avgchange = (prev_row + change) # adding all change values together\n",
    "            realavgchange = round(avgchange / i) # dividing avgchange by total months\n",
    "            great = max(row)\n",
    "            least = min(row)\n",
    "        i+=1\n",
    "        total += float(row[1])\n",
    "    print(total)\n",
    "    print(avgchange)\n",
    "    print(realavgchange)\n",
    "    print(great)\n",
    "    print(least)\n",
    "    \n",
    "      "
   ]
  },
  {
   "cell_type": "code",
   "execution_count": 193,
   "metadata": {},
   "outputs": [
    {
     "name": "stdout",
     "output_type": "stream",
     "text": [
      "\n",
      "Financial Analysis\n",
      "----------------------------\n",
      "Total Months: 86\n",
      "Total: $38382578.0\n",
      "Average Change: $1626\n",
      "Greatest Increase In Profits:\n",
      "Greatest Decrease In Profits:\n",
      "\n"
     ]
    }
   ],
   "source": [
    "#Generate the output string\n",
    "\n",
    "output = f\"\"\"\n",
    "Financial Analysis\n",
    "----------------------------\n",
    "Total Months: {i}\n",
    "Total: ${total}\n",
    "Average Change: ${realavgchange}\n",
    "Greatest Increase In Profits:\n",
    "Greatest Decrease In Profits:\n",
    "\"\"\"\n",
    "\n",
    "print(output)\n"
   ]
  },
  {
   "cell_type": "code",
   "execution_count": 194,
   "metadata": {},
   "outputs": [],
   "source": [
    "#Saving output to outout.txt\n",
    "with open(\"output.txt\", \"w\") as file:\n",
    "    file.write(output)"
   ]
  }
 ],
 "metadata": {
  "kernelspec": {
   "display_name": "Python 3.7.13 ('dev')",
   "language": "python",
   "name": "python3"
  },
  "language_info": {
   "codemirror_mode": {
    "name": "ipython",
    "version": 3
   },
   "file_extension": ".py",
   "mimetype": "text/x-python",
   "name": "python",
   "nbconvert_exporter": "python",
   "pygments_lexer": "ipython3",
   "version": "3.7.13"
  },
  "orig_nbformat": 4,
  "vscode": {
   "interpreter": {
    "hash": "43b1fd6e9aab77f25391a9a096108e39e7b806ac629cf9394fb8ec6541a28b11"
   }
  }
 },
 "nbformat": 4,
 "nbformat_minor": 2
}
